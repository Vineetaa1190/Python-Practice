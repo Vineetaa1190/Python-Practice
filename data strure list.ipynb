{
 "cells": [
  {
   "cell_type": "code",
   "execution_count": 8,
   "id": "682a020d",
   "metadata": {},
   "outputs": [],
   "source": [
    "\n",
    "from random import randint\n",
    "value=randint(1,10)\n",
    "value\n",
    "name='vineeta'"
   ]
  },
  {
   "cell_type": "code",
   "execution_count": 10,
   "id": "8579f9dd",
   "metadata": {},
   "outputs": [
    {
     "data": {
      "text/plain": [
       "[2, 'vineeta']"
      ]
     },
     "execution_count": 10,
     "metadata": {},
     "output_type": "execute_result"
    }
   ],
   "source": [
    "list1=[value,name]\n",
    "list1"
   ]
  },
  {
   "cell_type": "code",
   "execution_count": 11,
   "id": "0d8e8e32",
   "metadata": {},
   "outputs": [
    {
     "data": {
      "text/plain": [
       "['ch', 'bh', [194, 56], [2, 'vineeta']]"
      ]
     },
     "execution_count": 11,
     "metadata": {},
     "output_type": "execute_result"
    }
   ],
   "source": [
    "list2=[\"ch\",\"bh\",[194,56],list1]\n",
    "list2\n"
   ]
  },
  {
   "cell_type": "code",
   "execution_count": 14,
   "id": "40b95160",
   "metadata": {},
   "outputs": [
    {
     "data": {
      "text/plain": [
       "[2, 'vineeta']"
      ]
     },
     "execution_count": 14,
     "metadata": {},
     "output_type": "execute_result"
    }
   ],
   "source": [
    "list2[0]\n",
    "list2[1]\n",
    "list2[-1]"
   ]
  },
  {
   "cell_type": "code",
   "execution_count": 15,
   "id": "6c2836e2",
   "metadata": {},
   "outputs": [
    {
     "data": {
      "text/plain": [
       "'vineeta'"
      ]
     },
     "execution_count": 15,
     "metadata": {},
     "output_type": "execute_result"
    }
   ],
   "source": [
    "list2[-1][1]"
   ]
  },
  {
   "cell_type": "code",
   "execution_count": 16,
   "id": "75c5d3c0",
   "metadata": {},
   "outputs": [
    {
     "name": "stdout",
     "output_type": "stream",
     "text": [
      "[50, 70, 30, 20, 90, 10, 50]\n"
     ]
    }
   ],
   "source": [
    "\n",
    "# Initialize list\n",
    "Lst = [50, 70, 30, 20, 90, 10, 50]\n",
    " \n",
    "# Display list\n",
    "print(Lst[::])"
   ]
  },
  {
   "cell_type": "code",
   "execution_count": 17,
   "id": "9f935dff",
   "metadata": {},
   "outputs": [
    {
     "name": "stdout",
     "output_type": "stream",
     "text": [
      "[50, 70, 30, 20, 90, 10, 50]\n"
     ]
    }
   ],
   "source": [
    "print(Lst[-7::1])"
   ]
  },
  {
   "cell_type": "code",
   "execution_count": 18,
   "id": "9d84aceb",
   "metadata": {},
   "outputs": [
    {
     "name": "stdout",
     "output_type": "stream",
     "text": [
      "[70, 30, 20, 90]\n"
     ]
    }
   ],
   "source": [
    "print(Lst[1:5])"
   ]
  },
  {
   "cell_type": "code",
   "execution_count": 31,
   "id": "15eae59d",
   "metadata": {},
   "outputs": [
    {
     "data": {
      "text/plain": [
       "[4, 7]"
      ]
     },
     "execution_count": 31,
     "metadata": {},
     "output_type": "execute_result"
    }
   ],
   "source": [
    "List = [1, 2, 3, 4, 5, 6, 7, 8, 9]\n",
    "List[3:9:3]"
   ]
  },
  {
   "cell_type": "code",
   "execution_count": 25,
   "id": "cf9e5ebc",
   "metadata": {},
   "outputs": [
    {
     "name": "stdout",
     "output_type": "stream",
     "text": [
      "[4, 6, 8]\n"
     ]
    }
   ],
   "source": [
    "print(List[3:9:2])"
   ]
  },
  {
   "cell_type": "code",
   "execution_count": 36,
   "id": "094ccc21",
   "metadata": {},
   "outputs": [
    {
     "name": "stdout",
     "output_type": "stream",
     "text": [
      "[1, 4, 7]\n"
     ]
    }
   ],
   "source": [
    "print(List[::3])"
   ]
  },
  {
   "cell_type": "code",
   "execution_count": 43,
   "id": "318cca11",
   "metadata": {},
   "outputs": [
    {
     "name": "stdout",
     "output_type": "stream",
     "text": [
      "['Geeks']\n"
     ]
    }
   ],
   "source": [
    "List = ['Geeks', 4, 'geeks !']\n",
    "print(List[0::-1])"
   ]
  },
  {
   "cell_type": "code",
   "execution_count": 48,
   "id": "bdd99721",
   "metadata": {},
   "outputs": [
    {
     "data": {
      "text/plain": [
       "[-999]"
      ]
     },
     "execution_count": 48,
     "metadata": {},
     "output_type": "execute_result"
    }
   ],
   "source": [
    "List = [-999, 'G4G', 1706256, '^_^', 3.1496]\n",
    "List[0:1:1]"
   ]
  },
  {
   "cell_type": "code",
   "execution_count": 49,
   "id": "3c77fcc5",
   "metadata": {},
   "outputs": [
    {
     "data": {
      "text/plain": [
       "[-999, 'G4G', 'Geeks', 'for', 'Geeks', '!', 3.1496]"
      ]
     },
     "execution_count": 49,
     "metadata": {},
     "output_type": "execute_result"
    }
   ],
   "source": [
    "List[2:4] = ['Geeks', 'for', 'Geeks', '!']\n",
    "List"
   ]
  },
  {
   "cell_type": "code",
   "execution_count": 51,
   "id": "fad543a3",
   "metadata": {},
   "outputs": [
    {
     "name": "stdout",
     "output_type": "stream",
     "text": [
      "[-999, 'G4G', 'Geeks']\n"
     ]
    }
   ],
   "source": [
    "newList = List[:3]+List[7:]\n",
    "print(newList)"
   ]
  },
  {
   "cell_type": "code",
   "execution_count": 54,
   "id": "5a868d31",
   "metadata": {},
   "outputs": [
    {
     "name": "stdout",
     "output_type": "stream",
     "text": [
      "[-999, 'Geeks', 'G4G', '!', 'Geeks', 3.1496, 'for', 'hello']\n"
     ]
    }
   ],
   "source": [
    "List = List[::2]+List[1::2]\n",
    "print(List)"
   ]
  },
  {
   "cell_type": "code",
   "execution_count": 53,
   "id": "211150fb",
   "metadata": {},
   "outputs": [],
   "source": [
    "List.append(\"hello\")"
   ]
  },
  {
   "cell_type": "code",
   "execution_count": 58,
   "id": "ccdd38d3",
   "metadata": {},
   "outputs": [
    {
     "data": {
      "text/plain": [
       "[-999, 'Geeks', '999', 'G4G', '!', 'Geeks', 3.1496, 'for', 'hello']"
      ]
     },
     "execution_count": 58,
     "metadata": {},
     "output_type": "execute_result"
    }
   ],
   "source": [
    "List.insert(2,'999')  \n",
    "List  \n"
   ]
  },
  {
   "cell_type": "code",
   "execution_count": 2,
   "id": "795fe33e",
   "metadata": {},
   "outputs": [
    {
     "data": {
      "text/plain": [
       "[1, 2, 3, 4, 5, 6, 7, 8, 9, 10, 11, 12, 13, 14, 15]"
      ]
     },
     "execution_count": 2,
     "metadata": {},
     "output_type": "execute_result"
    }
   ],
   "source": [
    "List = [1, 2, 3, 4, 5, 6, 7, 8, 9]\n",
    "List1 = [10, 11, 12, 13, 14, 15]\n",
    "List.extend(List1)\n",
    "List"
   ]
  },
  {
   "cell_type": "code",
   "execution_count": 61,
   "id": "4036660c",
   "metadata": {},
   "outputs": [],
   "source": [
    "List.remove(10)"
   ]
  },
  {
   "cell_type": "code",
   "execution_count": 62,
   "id": "0b9598d2",
   "metadata": {},
   "outputs": [
    {
     "data": {
      "text/plain": [
       "[1, 2, 3, 4, 5, 6, 7, 8, 9, 11, 12, 13, 14, 15]"
      ]
     },
     "execution_count": 62,
     "metadata": {},
     "output_type": "execute_result"
    }
   ],
   "source": [
    "List"
   ]
  },
  {
   "cell_type": "code",
   "execution_count": 71,
   "id": "1d94201f",
   "metadata": {},
   "outputs": [],
   "source": [
    "del List[::2]"
   ]
  },
  {
   "cell_type": "code",
   "execution_count": 72,
   "id": "73802c6f",
   "metadata": {},
   "outputs": [
    {
     "data": {
      "text/plain": [
       "[3, 5, 7, 9, 11, 13, 15]"
      ]
     },
     "execution_count": 72,
     "metadata": {},
     "output_type": "execute_result"
    }
   ],
   "source": [
    "List"
   ]
  },
  {
   "cell_type": "code",
   "execution_count": 74,
   "id": "9932f5e7",
   "metadata": {},
   "outputs": [
    {
     "name": "stdout",
     "output_type": "stream",
     "text": [
      "15\n"
     ]
    }
   ],
   "source": [
    "tt=List.pop()\n",
    "print(tt)"
   ]
  },
  {
   "cell_type": "code",
   "execution_count": 75,
   "id": "929d9955",
   "metadata": {},
   "outputs": [
    {
     "data": {
      "text/plain": [
       "[1, 2, 20, 4, 5, 6, 7, 8, 9, 10, 11, 12, 13, 14]"
      ]
     },
     "execution_count": 75,
     "metadata": {},
     "output_type": "execute_result"
    }
   ],
   "source": [
    "List[2]=20\n",
    "List"
   ]
  },
  {
   "cell_type": "code",
   "execution_count": 78,
   "id": "bcb7c97d",
   "metadata": {},
   "outputs": [
    {
     "name": "stdout",
     "output_type": "stream",
     "text": [
      "1\n",
      "2\n",
      "20\n",
      "4\n",
      "5\n",
      "6\n",
      "7\n",
      "8\n",
      "9\n",
      "10\n",
      "11\n",
      "12\n",
      "13\n",
      "14\n"
     ]
    }
   ],
   "source": [
    "for i in List:\n",
    "    print(i)\n"
   ]
  },
  {
   "cell_type": "code",
   "execution_count": 100,
   "id": "dbe14d46",
   "metadata": {},
   "outputs": [],
   "source": [
    "List.sort(reverse=True)"
   ]
  },
  {
   "cell_type": "code",
   "execution_count": 101,
   "id": "ab25a5f3",
   "metadata": {},
   "outputs": [
    {
     "data": {
      "text/plain": [
       "[20, 14, 13, 12, 11, 10, 9, 8, 7, 6, 5, 4, 2, 1]"
      ]
     },
     "execution_count": 101,
     "metadata": {},
     "output_type": "execute_result"
    }
   ],
   "source": [
    "List"
   ]
  },
  {
   "cell_type": "code",
   "execution_count": 84,
   "id": "ac509ad5",
   "metadata": {},
   "outputs": [
    {
     "data": {
      "text/plain": [
       "False"
      ]
     },
     "execution_count": 84,
     "metadata": {},
     "output_type": "execute_result"
    }
   ],
   "source": [
    "'999' in List"
   ]
  },
  {
   "cell_type": "code",
   "execution_count": 99,
   "id": "3bba7a6f",
   "metadata": {},
   "outputs": [
    {
     "name": "stdout",
     "output_type": "stream",
     "text": [
      "not found\n"
     ]
    }
   ],
   "source": [
    "for i in List:\n",
    "    if i==22:\n",
    "        print(i,'found')\n",
    "        break\n",
    "    else:\n",
    "        print('not found')\n",
    "        break\n"
   ]
  },
  {
   "cell_type": "code",
   "execution_count": 102,
   "id": "33024697",
   "metadata": {},
   "outputs": [
    {
     "name": "stdout",
     "output_type": "stream",
     "text": [
      "True\n"
     ]
    }
   ],
   "source": [
    "print(20 in List)"
   ]
  },
  {
   "cell_type": "code",
   "execution_count": 3,
   "id": "56e57b69",
   "metadata": {},
   "outputs": [
    {
     "data": {
      "text/plain": [
       "[1, 2, 3, 4, 5, 6, 7, 8, 9, 10, 11, 12, 13, 14, 15, 5, 8]"
      ]
     },
     "execution_count": 3,
     "metadata": {},
     "output_type": "execute_result"
    }
   ],
   "source": [
    "List2=List+[5,8]\n",
    "List2"
   ]
  },
  {
   "cell_type": "code",
   "execution_count": 9,
   "id": "92b82ff4",
   "metadata": {},
   "outputs": [
    {
     "data": {
      "text/plain": [
       "[1, 2, 3, 4, 5, 6, 7, 8, 9, 10, 11, 12, 13, 14, 20]"
      ]
     },
     "execution_count": 9,
     "metadata": {},
     "output_type": "execute_result"
    }
   ],
   "source": [
    "List[14]=20\n",
    "List"
   ]
  },
  {
   "cell_type": "code",
   "execution_count": 13,
   "id": "7773f35a",
   "metadata": {},
   "outputs": [
    {
     "name": "stdout",
     "output_type": "stream",
     "text": [
      "['orange', 'stawberry', 'mango']\n",
      "['mango', 'orange', 'stawberry']\n"
     ]
    }
   ],
   "source": [
    "l=[\"orange\",\"stawberry\",\"mango\"]\n",
    "b=sorted(l)\n",
    "print(l)\n",
    "print(b)"
   ]
  },
  {
   "cell_type": "code",
   "execution_count": 14,
   "id": "11302659",
   "metadata": {},
   "outputs": [
    {
     "data": {
      "text/plain": [
       "2"
      ]
     },
     "execution_count": 14,
     "metadata": {},
     "output_type": "execute_result"
    }
   ],
   "source": [
    "l1=[2, 33, 222, 14, 25]\n",
    "l1[-5]"
   ]
  },
  {
   "cell_type": "code",
   "execution_count": 15,
   "id": "868c535c",
   "metadata": {},
   "outputs": [
    {
     "name": "stdout",
     "output_type": "stream",
     "text": [
      "[]\n"
     ]
    }
   ],
   "source": [
    "word = ['1','2','3','4']\n",
    "word[ : ] = [ ] \n",
    "print(word)"
   ]
  },
  {
   "cell_type": "code",
   "execution_count": 17,
   "id": "6349fce5",
   "metadata": {},
   "outputs": [
    {
     "name": "stdout",
     "output_type": "stream",
     "text": [
      "['five', 'four', 'one', 'six', 'three', 'two']\n",
      "['five', 'four', 'one', 'six', 'three', 'two']\n",
      "['five', 'four', 'one', 'six', 'three', 'two']\n",
      "['five', 'four', 'one', 'six', 'three', 'two']\n",
      "['five', 'four', 'one', 'six', 'three', 'two']\n",
      "['one', 'two', 'three', 'four', 'five', 'six']\n"
     ]
    }
   ],
   "source": [
    "L = ['one','two','three', 'four', 'five', 'six']\n",
    "print(sorted(L))\n",
    "\n",
    "print (L)"
   ]
  },
  {
   "cell_type": "code",
   "execution_count": 18,
   "id": "2f251c3d",
   "metadata": {},
   "outputs": [
    {
     "name": "stdout",
     "output_type": "stream",
     "text": [
      "['SAS', 'R', 'PYTHON', 'SPARK']\n"
     ]
    }
   ],
   "source": [
    "input_list=['SAS', 'R', 'PYTHON', 'SPSS']\n",
    "input_list.pop()\n",
    "input_list.append('SPARK')\n",
    "print(input_list)"
   ]
  },
  {
   "cell_type": "code",
   "execution_count": 26,
   "id": "593d8b97",
   "metadata": {},
   "outputs": [
    {
     "name": "stdout",
     "output_type": "stream",
     "text": [
      "Pythons syntax is easy to learn & Pythons syntax is very clear\n"
     ]
    }
   ],
   "source": [
    "input_str=['Pythons syntax is easy to learn', 'Pythons syntax is very clear']\n",
    "str1= \" & \".join(input_str)\n",
    "print(str1)"
   ]
  },
  {
   "cell_type": "code",
   "execution_count": 27,
   "id": "0b0a80ec",
   "metadata": {},
   "outputs": [
    {
     "name": "stdout",
     "output_type": "stream",
     "text": [
      "['oy', 'st', 'mg', 'un'] ['oy', 'st', 'mg', 'un']\n"
     ]
    }
   ],
   "source": [
    "a=[\"oy\",\"st\",\"mg\",\"un\"]\n",
    "b=a\n",
    "print(a,b)"
   ]
  },
  {
   "cell_type": "code",
   "execution_count": 28,
   "id": "c599de11",
   "metadata": {},
   "outputs": [
    {
     "name": "stdout",
     "output_type": "stream",
     "text": [
      "['jk', 'st', 'mg', 'un'] ['jk', 'st', 'mg', 'un']\n"
     ]
    }
   ],
   "source": [
    "a[0]=\"jk\"\n",
    "print(a,b)"
   ]
  },
  {
   "cell_type": "code",
   "execution_count": 29,
   "id": "d61e60b0",
   "metadata": {
    "scrolled": true
   },
   "outputs": [
    {
     "name": "stdout",
     "output_type": "stream",
     "text": [
      "['oy', 'st', 'mg', 'un'] ['oy', 'st', 'mg', 'un']\n",
      "['jk', 'st', 'mg', 'un'] ['oy', 'st', 'mg', 'un']\n"
     ]
    }
   ],
   "source": [
    "a=[\"oy\",\"st\",\"mg\",\"un\"]\n",
    "b=a[:]\n",
    "print(a,b)\n",
    "\n",
    "a[0]=\"jk\"\n",
    "print(a,b)"
   ]
  },
  {
   "cell_type": "code",
   "execution_count": 30,
   "id": "f257e111",
   "metadata": {},
   "outputs": [
    {
     "data": {
      "text/plain": [
       "'Python'"
      ]
     },
     "execution_count": 30,
     "metadata": {},
     "output_type": "execute_result"
    }
   ],
   "source": [
    "input_list =  [['SAS','R'],['Tableau','SQL'],['Python','Java']]\n",
    "\n",
    "input_list[2][0]"
   ]
  },
  {
   "cell_type": "code",
   "execution_count": null,
   "id": "64bfaa06",
   "metadata": {},
   "outputs": [],
   "source": []
  }
 ],
 "metadata": {
  "kernelspec": {
   "display_name": "Python 3 (ipykernel)",
   "language": "python",
   "name": "python3"
  },
  "language_info": {
   "codemirror_mode": {
    "name": "ipython",
    "version": 3
   },
   "file_extension": ".py",
   "mimetype": "text/x-python",
   "name": "python",
   "nbconvert_exporter": "python",
   "pygments_lexer": "ipython3",
   "version": "3.9.7"
  }
 },
 "nbformat": 4,
 "nbformat_minor": 5
}
